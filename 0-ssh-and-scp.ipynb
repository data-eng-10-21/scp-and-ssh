{
 "cells": [
  {
   "cell_type": "markdown",
   "metadata": {},
   "source": [
    "# More Time with SSH"
   ]
  },
  {
   "cell_type": "markdown",
   "metadata": {},
   "source": [
    "### Introduction"
   ]
  },
  {
   "cell_type": "markdown",
   "metadata": {},
   "source": [
    "In the last few lessons, we performed a whirlwind tour of setting up an EC2 instance.  In this lesson, we'll spend a little bit more time with SSH.  SSH is used not just for AWS, but whenever we need to securely access another computer."
   ]
  },
  {
   "cell_type": "markdown",
   "metadata": {},
   "source": [
    "### Reviewing SSH"
   ]
  },
  {
   "cell_type": "markdown",
   "metadata": {},
   "source": [
    "As we know, we use SSH to login to access an external computer.  SSH uses both a public key and a private key.  The public key is stored on the remote computer, and we store the private key on our computer.  This is what occurred when we create a new key pair."
   ]
  },
  {
   "cell_type": "markdown",
   "metadata": {},
   "source": [
    "<img src=\"./creating-pem-name.png\" width=\"80%\"/> "
   ]
  },
  {
   "cell_type": "markdown",
   "metadata": {},
   "source": [
    "The public key was automatically placed on our instance and the private key is downloaded to our computer and saved as the `.pem` file.\n",
    "\n",
    "Then we logged into our instance with the following:"
   ]
  },
  {
   "cell_type": "markdown",
   "metadata": {},
   "source": [
    "`ssh -i \"ds-setup.pem\" ec2-user@us-east-2.compute.amazonaws.com`"
   ]
  },
  {
   "cell_type": "markdown",
   "metadata": {},
   "source": [
    "In other words, our `.pem` file contains the private key which allows us to access the target computer."
   ]
  },
  {
   "cell_type": "markdown",
   "metadata": {},
   "source": [
    "### Using a Config file"
   ]
  },
  {
   "cell_type": "markdown",
   "metadata": {},
   "source": [
    "So above is one way to use ssh.  If we find ourselves repeatedly logging into the same machine, we can also make this login process a bit easier by settup up our `~/.ssh/config` file.  For example, where as previously we logged into a remote machine with:\n",
    "\n",
    "`ssh -i \"ds-setup.pem\" ec2-user@ec2-3-17.us-east-2.compute.amazonaws.com`"
   ]
  },
  {
   "cell_type": "markdown",
   "metadata": {},
   "source": [
    "We can structure our config file with the ip address, the user to login as, and the path to the corresponding file."
   ]
  },
  {
   "cell_type": "markdown",
   "metadata": {},
   "source": [
    "```bash\n",
    "# ~/.ssh/config\n",
    "Host production-server\n",
    "  HostName ec2-3-17.us-east-2.compute.amazonaws.com\n",
    "  User ec2-user\n",
    "  IdentityFile ~/.ssh/ds_setup.pem\n",
    "```"
   ]
  },
  {
   "cell_type": "markdown",
   "metadata": {},
   "source": [
    "Then should make sure our `.pem` file is located in the `.ssh` folder.  And we can login with the following:\n",
    "\n",
    "```bash\n",
    "ssh production-server\n",
    "```"
   ]
  },
  {
   "cell_type": "markdown",
   "metadata": {},
   "source": [
    "Now if we only want to perform a single command on the remote server, we can do so by specifying `ssh` our host, and the bash command.  It occurs like so: "
   ]
  },
  {
   "cell_type": "markdown",
   "metadata": {},
   "source": [
    "`ssh production-server ls`"
   ]
  },
  {
   "cell_type": "markdown",
   "metadata": {},
   "source": [
    "### Working with SCP "
   ]
  },
  {
   "cell_type": "markdown",
   "metadata": {},
   "source": [
    "Ok, now so far we've seen how to use ssh to directly login to a machine.  If we want to simply copy a file to our machine, we can do so with an scp to the machine.  That is, a secure copy.  \n",
    "\n",
    "Now, with scp we can copy a file to our machine with the following:\n",
    "\n",
    "```\n",
    "scp production-server:/path/to/file ./local-filename\n",
    "```\n",
    "\n",
    "So first, we specify where we are copying the file to -- the machine and the path on the machine.  And the second argument is the file that we are copying over.  \n",
    "\n"
   ]
  },
  {
   "cell_type": "markdown",
   "metadata": {},
   "source": [
    "### A Bit Deeper on Access"
   ]
  },
  {
   "cell_type": "markdown",
   "metadata": {},
   "source": [
    "Now as we know, the source parameter of all zeros allows a computer from any ip address to access our computer.  We could also restrict this to just a specific ip address.  For example, what if we wanted to just allow access from our ip address."
   ]
  },
  {
   "cell_type": "markdown",
   "metadata": {},
   "source": [
    "Now we first view our `ip address` by typing `ipconfig getifaddr en0` into our terminal."
   ]
  },
  {
   "cell_type": "code",
   "execution_count": 2,
   "metadata": {},
   "outputs": [
    {
     "name": "stdout",
     "output_type": "stream",
     "text": [
      "192.168.1.10\n"
     ]
    }
   ],
   "source": [
    "!ipconfig getifaddr en0\n",
    "\n",
    "# 192.168.16.192"
   ]
  },
  {
   "cell_type": "markdown",
   "metadata": {},
   "source": [
    "> This displays our connection to the network."
   ]
  },
  {
   "cell_type": "markdown",
   "metadata": {},
   "source": [
    "Finally add a `\\32` to the end of the ip address.  This specifies that only this particular connection on the network can access the EC2 machine."
   ]
  },
  {
   "cell_type": "markdown",
   "metadata": {},
   "source": [
    "For example, `192.168.16.192\\32`."
   ]
  },
  {
   "cell_type": "markdown",
   "metadata": {},
   "source": [
    "<img src=\"./ssh-ip-address-1.png\" width=\"100%\"/> "
   ]
  },
  {
   "cell_type": "markdown",
   "metadata": {},
   "source": [
    "If we were to append `\\26` to the end of the ip address, this would allow anyone on the network to connect to the machine, which would be useful if say we would wanted to allow anyone in on a company network to have access.\n",
    "\n",
    "Notice that if you place a `\\0` at the end of any ip address, this automatically allow any ip address to access it, so AWS will switch your ip address to `0.0.0.0\\0` if that `\\0` is present. "
   ]
  },
  {
   "cell_type": "markdown",
   "metadata": {},
   "source": [
    "### Challenge"
   ]
  },
  {
   "cell_type": "markdown",
   "metadata": {},
   "source": [
    "Change (or create) the `.ssh/config` so that we can ssh into our EC2 instance we setup in the Flask lab with `ssh flask_lab`.  Do not remove this setup or the .pem file -- we'll need it later."
   ]
  },
  {
   "cell_type": "markdown",
   "metadata": {},
   "source": [
    "### Summary"
   ]
  },
  {
   "cell_type": "markdown",
   "metadata": {},
   "source": [
    "In this lesson, went a bit deeper into ssh.  We saw that ssh uses both a public and private -- the public key which is stored on the host and private key stored on our local computer.  We log in via ssh by specifying the file with our private key, the user, and the ip address of the host computer.\n",
    "\n",
    "`ssh -i \"ds-setup.pem\" ec2-user@ec2-3-17.us-east-2.compute.amazonaws.com`"
   ]
  },
  {
   "cell_type": "markdown",
   "metadata": {},
   "source": [
    "We also saw that we can specify these arguments in the `~/ssh/config` file.  \n",
    "```bash\n",
    "Host production-server\n",
    "  HostName ec2-3-17.us-east-2.compute.amazonaws.com\n",
    "  User ec2-user\n",
    "  IdentityFile ~/.ssh/ds_setup.pem\n",
    "```"
   ]
  },
  {
   "cell_type": "markdown",
   "metadata": {},
   "source": [
    "Finally, we saw that we can use scp to copy files from our machine to the remote machine by specifying the remote machine and the target path, and the file we wish to copy over:\n",
    "\n",
    "`scp production-server:/path/to/file ./local-filename`"
   ]
  },
  {
   "cell_type": "markdown",
   "metadata": {},
   "source": [
    "### Resources\n",
    "\n",
    "[Public Key cryptography](https://en.wikipedia.org/wiki/Public-key_cryptography)\n",
    "\n",
    "[Thoughtbot SSH](https://thoughtbot.com/upcase/videos/intro-to-ssh)\n",
    "\n",
    "[Thoughtbot Mastering the Shell](https://thoughtbot.com/upcase/mastering-the-shell)"
   ]
  }
 ],
 "metadata": {
  "kernelspec": {
   "display_name": "Python 3",
   "language": "python",
   "name": "python3"
  },
  "language_info": {
   "codemirror_mode": {
    "name": "ipython",
    "version": 3
   },
   "file_extension": ".py",
   "mimetype": "text/x-python",
   "name": "python",
   "nbconvert_exporter": "python",
   "pygments_lexer": "ipython3",
   "version": "3.8.3"
  }
 },
 "nbformat": 4,
 "nbformat_minor": 4
}
